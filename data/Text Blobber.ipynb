{
 "cells": [
  {
   "cell_type": "code",
   "execution_count": 1,
   "metadata": {},
   "outputs": [],
   "source": [
    "# Use Pandas to apply a lambda to the entire row, kinda like sapply or lapply in R\n",
    "# Textblob for easy NLP without needing to go through scikitlearn or other convoluted steps\n",
    "\n",
    "import pandas as pd\n",
    "from textblob import TextBlob"
   ]
  },
  {
   "cell_type": "code",
   "execution_count": 2,
   "metadata": {},
   "outputs": [],
   "source": [
    "# Read the csv into a dataframe\n",
    "\n",
    "tweets_df = pd.read_csv('Tweets 11-10-2022.csv')"
   ]
  },
  {
   "cell_type": "code",
   "execution_count": 3,
   "metadata": {},
   "outputs": [],
   "source": [
    "# If the polarity is above 0.05, it is positive. If below -0.05 it is negative Neutral otherwise\n",
    "# I don't know why I am choosing 0.05 cutoff but after manually reading some of these I think it be worth considering\n",
    "\n",
    "def get_sentiment(polarity):\n",
    "  if (polarity > 0.05):\n",
    "    return ('Positive')\n",
    "  if (polarity < -0.05):\n",
    "    return ('Negative')\n",
    "  return ('Neutral')"
   ]
  },
  {
   "cell_type": "code",
   "execution_count": 4,
   "metadata": {},
   "outputs": [],
   "source": [
    "# If the polarity is above 0.5, it is subjective. If below 0.5 it is Objective\n",
    "# Probably do not need this. Not ideal way to do this, should probably have most subjective to least\n",
    "# using if for readability instead of ternary\n",
    "\n",
    "def get_intensity(subjectivity):\n",
    "  if (subjectivity < 0.25):\n",
    "    return ('Objective')\n",
    "  if (subjectivity < 0.5):\n",
    "    return ('Somewhat Objective')\n",
    "  if (subjectivity < 0.75):\n",
    "    return ('Somewhat Subjective')\n",
    "  if (subjectivity >= 0.75):\n",
    "    return ('Subjective')"
   ]
  },
  {
   "cell_type": "code",
   "execution_count": 5,
   "metadata": {},
   "outputs": [],
   "source": [
    "# Apply textblob functions to dataframe cols to get polarity and subjectivity\n",
    "# and the above defined to get the actual useful sentiment and intensity\n",
    "\n",
    "tweets_df['Polarity'] = tweets_df.apply(lambda x: TextBlob(x['Cleaned Tweets']).sentiment.polarity, axis=1)\n",
    "tweets_df['Subjectivity'] = tweets_df.apply(lambda x: TextBlob(x['Cleaned Tweets']).sentiment.subjectivity, axis=1)\n",
    "tweets_df['Sentiment'] = tweets_df.apply(lambda x: get_sentiment(x['Polarity']), axis=1)\n",
    "tweets_df['Intensity'] = tweets_df.apply(lambda x: get_intensity(x['Subjectivity']), axis=1)"
   ]
  },
  {
   "cell_type": "code",
   "execution_count": 6,
   "metadata": {},
   "outputs": [
    {
     "data": {
      "text/html": [
       "<div>\n",
       "<style scoped>\n",
       "    .dataframe tbody tr th:only-of-type {\n",
       "        vertical-align: middle;\n",
       "    }\n",
       "\n",
       "    .dataframe tbody tr th {\n",
       "        vertical-align: top;\n",
       "    }\n",
       "\n",
       "    .dataframe thead th {\n",
       "        text-align: right;\n",
       "    }\n",
       "</style>\n",
       "<table border=\"1\" class=\"dataframe\">\n",
       "  <thead>\n",
       "    <tr style=\"text-align: right;\">\n",
       "      <th></th>\n",
       "      <th>Date</th>\n",
       "      <th>Tweet</th>\n",
       "      <th>User</th>\n",
       "      <th>Tweet ID</th>\n",
       "      <th>Tweet Url</th>\n",
       "      <th>Cleaned Tweets</th>\n",
       "      <th>Polarity</th>\n",
       "      <th>Subjectivity</th>\n",
       "      <th>Sentiment</th>\n",
       "      <th>Intensity</th>\n",
       "    </tr>\n",
       "  </thead>\n",
       "  <tbody>\n",
       "    <tr>\n",
       "      <th>0</th>\n",
       "      <td>2022-11-10 09:28:34+00:00</td>\n",
       "      <td>Hardik Pandya best T20I knock .. rampage sir 🙏🥵</td>\n",
       "      <td>TheSandeepTweet</td>\n",
       "      <td>1590637529577193473</td>\n",
       "      <td>https://twitter.com/TheSandeepTweet/status/159...</td>\n",
       "      <td>Hardik Pandya best T20I knock .. rampage sir 🙏🥵</td>\n",
       "      <td>1.0</td>\n",
       "      <td>0.3</td>\n",
       "      <td>Positive</td>\n",
       "      <td>Somewhat Objective</td>\n",
       "    </tr>\n",
       "    <tr>\n",
       "      <th>1</th>\n",
       "      <td>2022-11-10 09:28:34+00:00</td>\n",
       "      <td>@fatima__kk Ok,my number watts app is 67627980</td>\n",
       "      <td>lasseni_tangara</td>\n",
       "      <td>1590637529556217856</td>\n",
       "      <td>https://twitter.com/lasseni_tangara/status/159...</td>\n",
       "      <td>Ok,my number watts app is 67627980</td>\n",
       "      <td>0.0</td>\n",
       "      <td>0.0</td>\n",
       "      <td>Neutral</td>\n",
       "      <td>Objective</td>\n",
       "    </tr>\n",
       "    <tr>\n",
       "      <th>2</th>\n",
       "      <td>2022-11-10 09:28:34+00:00</td>\n",
       "      <td>@Pihusha71 Yes I Love You</td>\n",
       "      <td>akbor_mollah</td>\n",
       "      <td>1590637529489117184</td>\n",
       "      <td>https://twitter.com/akbor_mollah/status/159063...</td>\n",
       "      <td>Yes I Love You</td>\n",
       "      <td>0.5</td>\n",
       "      <td>0.6</td>\n",
       "      <td>Positive</td>\n",
       "      <td>Somewhat Subjective</td>\n",
       "    </tr>\n",
       "    <tr>\n",
       "      <th>3</th>\n",
       "      <td>2022-11-10 09:28:34+00:00</td>\n",
       "      <td>mama’s home.</td>\n",
       "      <td>0FCHARMS</td>\n",
       "      <td>1590637529434271744</td>\n",
       "      <td>https://twitter.com/0FCHARMS/status/1590637529...</td>\n",
       "      <td>mama’s home.</td>\n",
       "      <td>0.0</td>\n",
       "      <td>0.0</td>\n",
       "      <td>Neutral</td>\n",
       "      <td>Objective</td>\n",
       "    </tr>\n",
       "    <tr>\n",
       "      <th>4</th>\n",
       "      <td>2022-11-10 09:28:34+00:00</td>\n",
       "      <td>let go of what isIf I should meet thee #鉴穴 #鉴逼...</td>\n",
       "      <td>OmarySa63134440</td>\n",
       "      <td>1590637529375858688</td>\n",
       "      <td>https://twitter.com/OmarySa63134440/status/159...</td>\n",
       "      <td>let go of what isIf I should meet thee 鉴穴 鉴逼 鉴...</td>\n",
       "      <td>0.0</td>\n",
       "      <td>0.0</td>\n",
       "      <td>Neutral</td>\n",
       "      <td>Objective</td>\n",
       "    </tr>\n",
       "  </tbody>\n",
       "</table>\n",
       "</div>"
      ],
      "text/plain": [
       "                        Date  \\\n",
       "0  2022-11-10 09:28:34+00:00   \n",
       "1  2022-11-10 09:28:34+00:00   \n",
       "2  2022-11-10 09:28:34+00:00   \n",
       "3  2022-11-10 09:28:34+00:00   \n",
       "4  2022-11-10 09:28:34+00:00   \n",
       "\n",
       "                                               Tweet             User  \\\n",
       "0    Hardik Pandya best T20I knock .. rampage sir 🙏🥵  TheSandeepTweet   \n",
       "1     @fatima__kk Ok,my number watts app is 67627980  lasseni_tangara   \n",
       "2                          @Pihusha71 Yes I Love You     akbor_mollah   \n",
       "3                                       mama’s home.         0FCHARMS   \n",
       "4  let go of what isIf I should meet thee #鉴穴 #鉴逼...  OmarySa63134440   \n",
       "\n",
       "              Tweet ID                                          Tweet Url  \\\n",
       "0  1590637529577193473  https://twitter.com/TheSandeepTweet/status/159...   \n",
       "1  1590637529556217856  https://twitter.com/lasseni_tangara/status/159...   \n",
       "2  1590637529489117184  https://twitter.com/akbor_mollah/status/159063...   \n",
       "3  1590637529434271744  https://twitter.com/0FCHARMS/status/1590637529...   \n",
       "4  1590637529375858688  https://twitter.com/OmarySa63134440/status/159...   \n",
       "\n",
       "                                      Cleaned Tweets  Polarity  Subjectivity  \\\n",
       "0    Hardik Pandya best T20I knock .. rampage sir 🙏🥵       1.0           0.3   \n",
       "1                 Ok,my number watts app is 67627980       0.0           0.0   \n",
       "2                                     Yes I Love You       0.5           0.6   \n",
       "3                                       mama’s home.       0.0           0.0   \n",
       "4  let go of what isIf I should meet thee 鉴穴 鉴逼 鉴...       0.0           0.0   \n",
       "\n",
       "  Sentiment            Intensity  \n",
       "0  Positive   Somewhat Objective  \n",
       "1   Neutral            Objective  \n",
       "2  Positive  Somewhat Subjective  \n",
       "3   Neutral            Objective  \n",
       "4   Neutral            Objective  "
      ]
     },
     "execution_count": 6,
     "metadata": {},
     "output_type": "execute_result"
    }
   ],
   "source": [
    "tweets_df.head()"
   ]
  },
  {
   "cell_type": "code",
   "execution_count": 124,
   "metadata": {},
   "outputs": [],
   "source": [
    "# Save to df\n",
    "\n",
    "tweets_df.to_csv('Tweets 11-10-2022 Sentiment.csv', index=False)"
   ]
  }
 ],
 "metadata": {
  "kernelspec": {
   "display_name": "Python 3.10.4 ('rproject')",
   "language": "python",
   "name": "python3"
  },
  "language_info": {
   "codemirror_mode": {
    "name": "ipython",
    "version": 3
   },
   "file_extension": ".py",
   "mimetype": "text/x-python",
   "name": "python",
   "nbconvert_exporter": "python",
   "pygments_lexer": "ipython3",
   "version": "3.10.4"
  },
  "orig_nbformat": 4,
  "vscode": {
   "interpreter": {
    "hash": "1ea531283d6af8d55d4a4645b7473c7cd899632fc4f3af3b7058c5c469f337ba"
   }
  }
 },
 "nbformat": 4,
 "nbformat_minor": 2
}
