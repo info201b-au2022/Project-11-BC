{
 "cells": [
  {
   "cell_type": "code",
   "execution_count": 1,
   "metadata": {},
   "outputs": [],
   "source": [
    "# Import Pandas for dataframe conversion and snscrape to scrape twitter\n",
    "\n",
    "import pandas as pd\n",
    "import snscrape.modules.twitter as sntwitter\n",
    "import re"
   ]
  },
  {
   "cell_type": "code",
   "execution_count": 2,
   "metadata": {},
   "outputs": [],
   "source": [
    "# Get only english tweets\n",
    "query = \"lang:en\"\n",
    "\n",
    "# Build array for storing the tweets\n",
    "tweets = []\n",
    "\n",
    "# Get 3500 tweets. This is equal to around train + test set. I am doing 5 times the reddit test set\n",
    "# because in some tests I did a lot of them are neutral which are kind of useless.\n",
    "limit = 3500"
   ]
  },
  {
   "cell_type": "code",
   "execution_count": 3,
   "metadata": {},
   "outputs": [],
   "source": [
    "# Use provided TwitterSearchScraper and iterate over all tweets from get_items\n",
    "for tweet in sntwitter.TwitterSearchScraper(query).get_items():\n",
    "\n",
    "  # If the array hits the limit of 3500, stop getting tweets\n",
    "  if len(tweets) == limit:\n",
    "    break\n",
    "\n",
    "  # Get the date, text content, username, id and url. Don't know if we need id and url\n",
    "  tweets.append([tweet.date, tweet.content, tweet.user.username, tweet.id, tweet.url])"
   ]
  },
  {
   "cell_type": "code",
   "execution_count": 4,
   "metadata": {},
   "outputs": [],
   "source": [
    "# Make a dataframe from the tweet array\n",
    "tweets_df = pd.DataFrame(tweets, columns=['Date', 'Tweet', 'User', 'Tweet ID', 'Tweet Url'])"
   ]
  },
  {
   "cell_type": "code",
   "execution_count": 5,
   "metadata": {},
   "outputs": [],
   "source": [
    "# Remove @, #, RT, links, and new line escape character\n",
    "def cleanTweets(tweet):\n",
    "  tweet = re.sub('@[A-Za-z0-9_]+', '', tweet)\n",
    "  tweet = re.sub('#', '', tweet)\n",
    "  tweet = re.sub('RT[\\s]+', '', tweet)\n",
    "  tweet = re.sub('https?:\\/\\/\\S+', '', tweet)\n",
    "  tweet = re.sub('\\n', ' ', tweet)\n",
    "  return tweet"
   ]
  },
  {
   "cell_type": "code",
   "execution_count": 7,
   "metadata": {},
   "outputs": [],
   "source": [
    "# Apply cleanTweets to every single item in the tweets column\n",
    "tweets_df['Cleaned Tweets'] = tweets_df['Tweet'].apply(cleanTweets)"
   ]
  },
  {
   "cell_type": "code",
   "execution_count": 8,
   "metadata": {},
   "outputs": [
    {
     "data": {
      "text/html": [
       "<div>\n",
       "<style scoped>\n",
       "    .dataframe tbody tr th:only-of-type {\n",
       "        vertical-align: middle;\n",
       "    }\n",
       "\n",
       "    .dataframe tbody tr th {\n",
       "        vertical-align: top;\n",
       "    }\n",
       "\n",
       "    .dataframe thead th {\n",
       "        text-align: right;\n",
       "    }\n",
       "</style>\n",
       "<table border=\"1\" class=\"dataframe\">\n",
       "  <thead>\n",
       "    <tr style=\"text-align: right;\">\n",
       "      <th></th>\n",
       "      <th>Date</th>\n",
       "      <th>Tweet</th>\n",
       "      <th>User</th>\n",
       "      <th>Tweet ID</th>\n",
       "      <th>Tweet Url</th>\n",
       "      <th>Cleaned Tweets</th>\n",
       "    </tr>\n",
       "  </thead>\n",
       "  <tbody>\n",
       "    <tr>\n",
       "      <th>0</th>\n",
       "      <td>2022-11-10 09:28:34+00:00</td>\n",
       "      <td>Hardik Pandya best T20I knock .. rampage sir 🙏🥵</td>\n",
       "      <td>TheSandeepTweet</td>\n",
       "      <td>1590637529577193473</td>\n",
       "      <td>https://twitter.com/TheSandeepTweet/status/159...</td>\n",
       "      <td>Hardik Pandya best T20I knock .. rampage sir 🙏🥵</td>\n",
       "    </tr>\n",
       "    <tr>\n",
       "      <th>1</th>\n",
       "      <td>2022-11-10 09:28:34+00:00</td>\n",
       "      <td>@fatima__kk Ok,my number watts app is 67627980</td>\n",
       "      <td>lasseni_tangara</td>\n",
       "      <td>1590637529556217856</td>\n",
       "      <td>https://twitter.com/lasseni_tangara/status/159...</td>\n",
       "      <td>Ok,my number watts app is 67627980</td>\n",
       "    </tr>\n",
       "    <tr>\n",
       "      <th>2</th>\n",
       "      <td>2022-11-10 09:28:34+00:00</td>\n",
       "      <td>@Pihusha71 Yes I Love You</td>\n",
       "      <td>akbor_mollah</td>\n",
       "      <td>1590637529489117184</td>\n",
       "      <td>https://twitter.com/akbor_mollah/status/159063...</td>\n",
       "      <td>Yes I Love You</td>\n",
       "    </tr>\n",
       "    <tr>\n",
       "      <th>3</th>\n",
       "      <td>2022-11-10 09:28:34+00:00</td>\n",
       "      <td>mama’s home.</td>\n",
       "      <td>0FCHARMS</td>\n",
       "      <td>1590637529434271744</td>\n",
       "      <td>https://twitter.com/0FCHARMS/status/1590637529...</td>\n",
       "      <td>mama’s home.</td>\n",
       "    </tr>\n",
       "    <tr>\n",
       "      <th>4</th>\n",
       "      <td>2022-11-10 09:28:34+00:00</td>\n",
       "      <td>let go of what isIf I should meet thee #鉴穴 #鉴逼...</td>\n",
       "      <td>OmarySa63134440</td>\n",
       "      <td>1590637529375858688</td>\n",
       "      <td>https://twitter.com/OmarySa63134440/status/159...</td>\n",
       "      <td>let go of what isIf I should meet thee 鉴穴 鉴逼 鉴...</td>\n",
       "    </tr>\n",
       "  </tbody>\n",
       "</table>\n",
       "</div>"
      ],
      "text/plain": [
       "                       Date  \\\n",
       "0 2022-11-10 09:28:34+00:00   \n",
       "1 2022-11-10 09:28:34+00:00   \n",
       "2 2022-11-10 09:28:34+00:00   \n",
       "3 2022-11-10 09:28:34+00:00   \n",
       "4 2022-11-10 09:28:34+00:00   \n",
       "\n",
       "                                               Tweet             User  \\\n",
       "0    Hardik Pandya best T20I knock .. rampage sir 🙏🥵  TheSandeepTweet   \n",
       "1     @fatima__kk Ok,my number watts app is 67627980  lasseni_tangara   \n",
       "2                          @Pihusha71 Yes I Love You     akbor_mollah   \n",
       "3                                       mama’s home.         0FCHARMS   \n",
       "4  let go of what isIf I should meet thee #鉴穴 #鉴逼...  OmarySa63134440   \n",
       "\n",
       "              Tweet ID                                          Tweet Url  \\\n",
       "0  1590637529577193473  https://twitter.com/TheSandeepTweet/status/159...   \n",
       "1  1590637529556217856  https://twitter.com/lasseni_tangara/status/159...   \n",
       "2  1590637529489117184  https://twitter.com/akbor_mollah/status/159063...   \n",
       "3  1590637529434271744  https://twitter.com/0FCHARMS/status/1590637529...   \n",
       "4  1590637529375858688  https://twitter.com/OmarySa63134440/status/159...   \n",
       "\n",
       "                                      Cleaned Tweets  \n",
       "0    Hardik Pandya best T20I knock .. rampage sir 🙏🥵  \n",
       "1                 Ok,my number watts app is 67627980  \n",
       "2                                     Yes I Love You  \n",
       "3                                       mama’s home.  \n",
       "4  let go of what isIf I should meet thee 鉴穴 鉴逼 鉴...  "
      ]
     },
     "execution_count": 8,
     "metadata": {},
     "output_type": "execute_result"
    }
   ],
   "source": [
    "tweets_df.head()"
   ]
  },
  {
   "cell_type": "code",
   "execution_count": 10,
   "metadata": {},
   "outputs": [],
   "source": [
    "# Save it to a csv\n",
    "tweets_df.to_csv('Tweets 11-10-2022.csv', index=False)"
   ]
  }
 ],
 "metadata": {
  "kernelspec": {
   "display_name": "Python 3.10.4 ('rproject')",
   "language": "python",
   "name": "python3"
  },
  "language_info": {
   "codemirror_mode": {
    "name": "ipython",
    "version": 3
   },
   "file_extension": ".py",
   "mimetype": "text/x-python",
   "name": "python",
   "nbconvert_exporter": "python",
   "pygments_lexer": "ipython3",
   "version": "3.10.4"
  },
  "orig_nbformat": 4,
  "vscode": {
   "interpreter": {
    "hash": "1ea531283d6af8d55d4a4645b7473c7cd899632fc4f3af3b7058c5c469f337ba"
   }
  }
 },
 "nbformat": 4,
 "nbformat_minor": 2
}
